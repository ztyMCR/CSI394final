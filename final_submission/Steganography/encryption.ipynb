{
 "cells": [
  {
   "cell_type": "code",
   "execution_count": 15,
   "metadata": {},
   "outputs": [
    {
     "name": "stdout",
     "output_type": "stream",
     "text": [
      "The first line is P3\n",
      "\n",
      "The second line is 256 256\n",
      "\n",
      "The Third line is 255\n",
      "\n",
      "width is 256  and height is 256\n",
      "Enter the secret message: hello world\n",
      "you entered  hello world\n",
      "0b110100001100101011011000110110001101111001000000111011101101111011100100110110001100100\n",
      "['1', '1', '0', '1', '0', '0', '0', '0', '1', '1', '0', '0', '1', '0', '1', '0', '1', '1', '0', '1', '1', '0', '0', '0', '1', '1', '0', '1', '1', '0', '0', '0', '1', '1', '0', '1', '1', '1', '1', '0', '0', '1', '0', '0', '0', '0', '0', '0', '1', '1', '1', '0', '1', '1', '1', '0', '1', '1', '0', '1', '1', '1', '1', '0', '1', '1', '1', '0', '0', '1', '0', '0', '1', '1', '0', '1', '1', '0', '0', '0', '1', '1', '0', '0', '1', '0', '0', '2']\n",
      "88\n"
     ]
    }
   ],
   "source": [
    "import binascii\n",
    "with open('balls.ppm', 'r') as fin:\n",
    "  zeroL = []\n",
    "  first_line = fin.readline()\n",
    "  second_line = fin.readline()\n",
    "  third_line = fin.readline()\n",
    "  print (\"The first line is \"+ first_line)\n",
    "  print (\"The second line is \" + second_line)\n",
    "  print (\"The Third line is \"+ third_line)\n",
    "  width,height = second_line.split()\n",
    "  print (\"width is\", width ,\" and height is\", height)\n",
    "\n",
    "  for line in fin:\n",
    "    zeroL.append(int(line))\n",
    "#done reading\n",
    "\n",
    "secMsg = input(\"Enter the secret message: \")\n",
    "print(\"you entered \" , secMsg)\n",
    "\n",
    "encode = bin(int.from_bytes(secMsg.encode(), 'big'))\n",
    "encodeList = []\n",
    "encodeList = list(encode)[2:]\n",
    "encodeList.append('2')\n",
    "print(encode)\n",
    "print(encodeList)\n",
    "print(len(encodeList))\n",
    "\n"
   ]
  },
  {
   "cell_type": "code",
   "execution_count": 17,
   "metadata": {},
   "outputs": [
    {
     "name": "stdout",
     "output_type": "stream",
     "text": [
      "the encode list is ['1', '1', '0', '1', '0', '0', '0', '0', '1', '1', '0', '0', '1', '0', '1', '0', '1', '1', '0', '1', '1', '0', '0', '0', '1', '1', '0', '1', '1', '0', '0', '0', '1', '1', '0', '1', '1', '1', '1', '0', '0', '1', '0', '0', '0', '0', '0', '0', '1', '1', '1', '0', '1', '1', '1', '0', '1', '1', '0', '1', '1', '1', '1', '0', '1', '1', '1', '0', '0', '1', '0', '0', '1', '1', '0', '1', '1', '0', '0', '0', '1', '1', '0', '0', '1', '0', '0', '2']\n",
      "done writing\n"
     ]
    }
   ],
   "source": [
    "i = 0\n",
    "newList = []\n",
    "print(\"the encode list is\",encodeList)\n",
    "for x in zeroL:\n",
    "    if encodeList[i] == \"1\":\n",
    "        if zeroL[i] == 255:\n",
    "            newList.append(x-1)\n",
    "        else:\n",
    "            newList.append(x+1)\n",
    "        #print(\"1 added\")\n",
    "    \n",
    "    elif encodeList[i] == \"2\":\n",
    "        if zeroL[i] == 255:\n",
    "            newList.append(x-2)\n",
    "        else:\n",
    "            newList.append(x+2)\n",
    "        #print(\"1 added\")\n",
    "    else:\n",
    "        newList.append(x)\n",
    "        #print(\"0 added\")\n",
    "    i += 1\n",
    "        \n",
    "    if i == len(encodeList):\n",
    "        break\n",
    "    \n",
    "newList.extend(zeroL[i:])\n",
    "\n",
    "with open('encode.ppm', 'w') as fout:\n",
    "    fout.write(first_line)\n",
    "    fout.write(str(width))\n",
    "    fout.write(\" \")\n",
    "    fout.write(str(height)+\"\\n\")\n",
    "    \n",
    "    fout.write(third_line)\n",
    "    for i in range(len(newList)):\n",
    "        fout.write(str(newList[i])+\"\\n\")\n",
    "        \n",
    "        \n",
    "print(\"done writing\")"
   ]
  },
  {
   "cell_type": "code",
   "execution_count": null,
   "metadata": {
    "collapsed": true
   },
   "outputs": [],
   "source": []
  },
  {
   "cell_type": "code",
   "execution_count": null,
   "metadata": {
    "collapsed": true
   },
   "outputs": [],
   "source": []
  }
 ],
 "metadata": {
  "kernelspec": {
   "display_name": "Python 3",
   "language": "python",
   "name": "python3"
  },
  "language_info": {
   "codemirror_mode": {
    "name": "ipython",
    "version": 3
   },
   "file_extension": ".py",
   "mimetype": "text/x-python",
   "name": "python",
   "nbconvert_exporter": "python",
   "pygments_lexer": "ipython3",
   "version": "3.6.3"
  }
 },
 "nbformat": 4,
 "nbformat_minor": 2
}
