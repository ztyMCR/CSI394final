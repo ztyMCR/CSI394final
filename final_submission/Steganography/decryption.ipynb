{
 "cells": [
  {
   "cell_type": "code",
   "execution_count": 1,
   "metadata": {},
   "outputs": [
    {
     "name": "stdout",
     "output_type": "stream",
     "text": [
      "The first line is P3\n",
      "\n",
      "The second line is 256 256\n",
      "\n",
      "The Third line is 255\n",
      "\n",
      "width is 256  and height is 256\n",
      "The first line is P3\n",
      "\n",
      "The second line is 256 256\n",
      "\n",
      "The Third line is 255\n",
      "\n"
     ]
    }
   ],
   "source": [
    "import binascii\n",
    "with open('balls.ppm', 'r') as fin:\n",
    "  zeroL = []\n",
    "  first_line = fin.readline()\n",
    "  second_line = fin.readline()\n",
    "  third_line = fin.readline()\n",
    "  print (\"The first line is \"+ first_line)\n",
    "  print (\"The second line is \" + second_line)\n",
    "  print (\"The Third line is \"+ third_line)\n",
    "  width,height = second_line.split()\n",
    "  print (\"width is\", width ,\" and height is\", height)\n",
    "\n",
    "  for line in fin:\n",
    "    zeroL.append(int(line))\n",
    "    \n",
    "with open('encode.ppm', 'r') as fin:\n",
    "  encodeL = []\n",
    "  first_line = fin.readline()\n",
    "  second_line = fin.readline()\n",
    "  third_line = fin.readline()\n",
    "  print (\"The first line is \"+ first_line)\n",
    "  print (\"The second line is \" + second_line)\n",
    "  print (\"The Third line is \"+ third_line)\n",
    "\n",
    "  for line in fin:\n",
    "    encodeL.append(int(line))\n",
    "#done reading"
   ]
  },
  {
   "cell_type": "code",
   "execution_count": 17,
   "metadata": {},
   "outputs": [
    {
     "name": "stdout",
     "output_type": "stream",
     "text": [
      "reach the end of code\n",
      "the code list is  [1, 1, 0, 1, 0, 0, 0, 0, 1, 1, 0, 0, 1, 0, 1, 0, 1, 1, 0, 1, 1, 0, 0, 0, 1, 1, 0, 1, 1, 0, 0, 0, 1, 1, 0, 1, 1, 1, 1, 0, 0, 1, 0, 0, 0, 0, 0, 0, 1, 1, 1, 0, 1, 1, 1, 0, 1, 1, 0, 1, 1, 1, 1, 0, 1, 1, 1, 0, 0, 1, 0, 0, 1, 1, 0, 1, 1, 0, 0, 0, 1, 1, 0, 0, 1, 0, 0]\n",
      "hello world\n"
     ]
    }
   ],
   "source": [
    "i = 0\n",
    "codeList = []\n",
    "numberOfZeros = 0\n",
    "\n",
    "\n",
    "for x in zeroL:\n",
    "    #print(x)\n",
    "    #print(encodeL[i])\n",
    "    dif = abs(int(x)-int(encodeL[i]))\n",
    "    if dif == 0:\n",
    "        codeList.append(0)\n",
    "        numberOfZeros +=1\n",
    "        #print(\"0 added\")\n",
    "    elif dif == 1:\n",
    "        codeList.append(1)\n",
    "        numberOfZeros =0\n",
    "        #print(\"1 added\")\n",
    "    elif dif == 2:\n",
    "        print(\"reach the end of code\")\n",
    "        break\n",
    "    i +=1\n",
    "    \n",
    "\n",
    "print(\"the code list is \",codeList)\n",
    "codeStr = ''.join(str(e) for e in codeList)\n",
    "n = int('0b'+codeStr, 2)\n",
    "finalCode = n.to_bytes((n.bit_length() + 7) // 8, 'big').decode()\n",
    "\n",
    "print(finalCode)\n",
    " "
   ]
  },
  {
   "cell_type": "code",
   "execution_count": null,
   "metadata": {
    "collapsed": true
   },
   "outputs": [],
   "source": []
  },
  {
   "cell_type": "code",
   "execution_count": null,
   "metadata": {
    "collapsed": true
   },
   "outputs": [],
   "source": []
  }
 ],
 "metadata": {
  "kernelspec": {
   "display_name": "Python 3",
   "language": "python",
   "name": "python3"
  },
  "language_info": {
   "codemirror_mode": {
    "name": "ipython",
    "version": 3
   },
   "file_extension": ".py",
   "mimetype": "text/x-python",
   "name": "python",
   "nbconvert_exporter": "python",
   "pygments_lexer": "ipython3",
   "version": "3.6.3"
  }
 },
 "nbformat": 4,
 "nbformat_minor": 2
}
