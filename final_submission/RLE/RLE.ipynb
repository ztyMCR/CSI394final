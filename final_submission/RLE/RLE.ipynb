{
 "cells": [
  {
   "cell_type": "code",
   "execution_count": 1,
   "metadata": {
    "scrolled": true
   },
   "outputs": [
    {
     "name": "stdout",
     "output_type": "stream",
     "text": [
      "The first line is RWV1\n",
      "\n",
      "The second line is 256 256\n",
      "\n",
      "The third line is 255\n",
      "\n",
      "width is 256  and height is 256\n",
      "the length of the zeroL is  196608\n",
      "there are  127737  zero\n",
      "the length of the firL is  96875\n"
     ]
    }
   ],
   "source": [
    "zeroL = []\n",
    "firL = []\n",
    "NoZeros =0\n",
    "Threshold = 1.5\n",
    "NOZ = 0\n",
    "def printRLE():\n",
    "    with open('outputRLE.txt', 'w') as fout:\n",
    "        fout.write(\"RLE1\\n\")\n",
    "        fout.write(str(width))\n",
    "        fout.write(\" \")\n",
    "        fout.write(str(height)+\"\\n\")  \n",
    "        fout.write(third_line)\n",
    "        for i in range(len(firL)):\n",
    "            fout.write(str(firL[i])+\"\\n\")\n",
    "\n",
    "with open('output.rwv1', 'r') as fin:\n",
    "    first_line = fin.readline()\n",
    "    second_line = fin.readline()\n",
    "    third_line = fin.readline()\n",
    "    print (\"The first line is \"+ first_line)\n",
    "    print (\"The second line is \" + second_line)\n",
    "    print (\"The third line is \"+ third_line)\n",
    "    width,height = second_line.split()\n",
    "    print (\"width is\", width ,\" and height is\", height)\n",
    "    \n",
    "    for line in fin:\n",
    "        #print(\"here\")\n",
    "        if(abs(float(line))<Threshold):\n",
    "            zeroL.append(0)\n",
    "            NoZeros = NoZeros+1\n",
    "            #print(\"zero ADDED for \",line)\n",
    "        else:\n",
    "            zeroL.append(float(line))\n",
    "            #print(\"number ADDED\")\n",
    "print(\"the length of the zeroL is \",len(zeroL))\n",
    "print(\"there are \",NoZeros,\" zero\")\n",
    "for number in zeroL:\n",
    "    if number != 0:\n",
    "        if NOZ ==0:\n",
    "            firL.append(number)\n",
    "        else:\n",
    "            firL.append(0)\n",
    "            firL.append(NOZ)\n",
    "            firL.append(number)\n",
    "            NOZ =0           \n",
    "    else:\n",
    "        NOZ = NOZ+1\n",
    "if(NOZ!=0 ):\n",
    "    firL.append(0)\n",
    "    firL.append(NOZ)\n",
    "NOZ =0\n",
    "print(\"the length of the firL is \",len(firL))\n",
    "printRLE()"
   ]
  },
  {
   "cell_type": "code",
   "execution_count": null,
   "metadata": {
    "collapsed": true
   },
   "outputs": [],
   "source": []
  },
  {
   "cell_type": "code",
   "execution_count": null,
   "metadata": {
    "collapsed": true
   },
   "outputs": [],
   "source": []
  }
 ],
 "metadata": {
  "kernelspec": {
   "display_name": "Python 3",
   "language": "python",
   "name": "python3"
  },
  "language_info": {
   "codemirror_mode": {
    "name": "ipython",
    "version": 3
   },
   "file_extension": ".py",
   "mimetype": "text/x-python",
   "name": "python",
   "nbconvert_exporter": "python",
   "pygments_lexer": "ipython3",
   "version": "3.6.3"
  }
 },
 "nbformat": 4,
 "nbformat_minor": 2
}
