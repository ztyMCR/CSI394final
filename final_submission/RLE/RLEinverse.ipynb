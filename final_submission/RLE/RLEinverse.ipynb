{
 "cells": [
  {
   "cell_type": "code",
   "execution_count": 1,
   "metadata": {},
   "outputs": [
    {
     "name": "stdout",
     "output_type": "stream",
     "text": [
      "256\n",
      "196608\n",
      "196608\n",
      "done writing\n",
      "inverse1.2 is the original image\n"
     ]
    }
   ],
   "source": [
    "import copy\n",
    "\n",
    "zeroL =[]\n",
    "firL =[]\n",
    "secL =[]\n",
    "\n",
    "def printRWV1():\n",
    "    with open('rwv1FromRLE.txt', 'w') as fout:\n",
    "        fout.write(\"RLE1\\n\")\n",
    "        fout.write(str(width))\n",
    "        fout.write(\" \")\n",
    "        fout.write(str(height)+\"\\n\")  \n",
    "        fout.write(third_line)\n",
    "        for i in range(len(firL)):\n",
    "            fout.write(str(firL[i])+\"\\n\")\n",
    "with open('output.rwv1', 'r') as fin:\n",
    "  \n",
    "    first_line = fin.readline()\n",
    "    second_line = fin.readline()\n",
    "    third_line = fin.readline()\n",
    "    width,height = second_line.split()\n",
    "    width = int(width)\n",
    "    height = int(height)\n",
    "\n",
    "    for line in fin:\n",
    "        zeroL.append(float(line))\n",
    "#done reading\n",
    "\n",
    "print(width)\n",
    "\n",
    "for j in range (0,128):\n",
    "    for i in range(0,256*3):\n",
    "        firL.append(zeroL[i+j*width*3]+zeroL[i+j*width*3+width*128*3])\n",
    "    for i in range(0,256*3):\n",
    "        firL.append(zeroL[i+j*width*3]-zeroL[i+j*width*3+width*128*3])\n",
    "print(len(firL))       \n",
    "            \n",
    "for j in range(0,256):\n",
    "    for i in range(0,128):\n",
    "        for k in range(0,3):\n",
    "            secL.append(firL[k+i*3+j*width*3]+firL[int(k+i*3+width*3/2+j*width*3)])         \n",
    "        for k in range(0,3):\n",
    "            secL.append(firL[k+i*3+j*width*3]-firL[int(k+i*3+width*3/2+j*width*3)])\n",
    "\n",
    "\n",
    "\n",
    "with open('inverseFromRLE.ppm', 'w') as fout:\n",
    "    fout.write(\"P3\\n\")\n",
    "    fout.write(str(width))\n",
    "    fout.write(\" \")\n",
    "    fout.write(str(height)+\"\\n\")\n",
    "    \n",
    "    fout.write(third_line)\n",
    "    for i in range(len(secL)):\n",
    "        fout.write(str(int(secL[i]))+\"\\n\")\n",
    "\n",
    "print(len(secL))\n",
    "print(\"done writing\")\n",
    "print(\"inverse1.2 is the original image\")\n",
    "printRWV1()\n"
   ]
  },
  {
   "cell_type": "code",
   "execution_count": null,
   "metadata": {
    "collapsed": true
   },
   "outputs": [],
   "source": []
  }
 ],
 "metadata": {
  "kernelspec": {
   "display_name": "Python 3",
   "language": "python",
   "name": "python3"
  },
  "language_info": {
   "codemirror_mode": {
    "name": "ipython",
    "version": 3
   },
   "file_extension": ".py",
   "mimetype": "text/x-python",
   "name": "python",
   "nbconvert_exporter": "python",
   "pygments_lexer": "ipython3",
   "version": "3.6.3"
  }
 },
 "nbformat": 4,
 "nbformat_minor": 2
}
